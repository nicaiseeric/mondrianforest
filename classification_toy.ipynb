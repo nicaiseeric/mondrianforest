{
 "cells": [
  {
   "cell_type": "markdown",
   "metadata": {},
   "source": [
    "# Test - Mondrian Forest Classification\n",
    "\n",
    "This notebook contains a simple test of the classification functions of the Modrian Forest code written by B. Lakshminarayanan. Specifically it runs the MF code on the USPS dataset discussed in [the original paper](http://www.gatsby.ucl.ac.uk/~balaji/mondrian_forests_nips14.pdf).  In addition, we run a sklearn Random Forest and Extra Trees Classifier for comparison.\n",
    "\n",
    "In short, I find the MF code indeed produces similar classification performance as the other random forests, however it is strikingly slower compared to the batch counterparts.  While Online RF models may indeed be very slow, this is much slower that desired for this size/dimension data.  Not sure if code refactoring would be a game changer, I suspect yes."
   ]
  },
  {
   "cell_type": "code",
   "execution_count": 3,
   "metadata": {
    "collapsed": false
   },
   "outputs": [],
   "source": [
    "# import some libraries\n",
    "from src.mondrianforest_utils import load_data, reset_random_seed, precompute_minimal\n",
    "from src.mondrianforest import process_command_line, MondrianForest\n",
    "\n",
    "import pydot\n",
    "import numpy as np\n",
    "import pprint as pp     # pretty printing module"
   ]
  },
  {
   "cell_type": "markdown",
   "metadata": {},
   "source": [
    "## Punking the command line\n",
    "\n",
    "I do not personally enjoy the command line interface of the MF code.  Below is a class containing the settings necessary to run the code."
   ]
  },
  {
   "cell_type": "code",
   "execution_count": 4,
   "metadata": {
    "collapsed": false
   },
   "outputs": [],
   "source": [
    "class ParamSettings(object):\n",
    "    def __init__(self):\n",
    "        self.dataset = 'usps'\n",
    "        self.normalize_features = 1\n",
    "        self.select_features = 0\n",
    "        self.optype = 'class'\n",
    "        self.data_path = './process_data/'\n",
    "        self.debug = 0\n",
    "        self.op_dir = 'results'\n",
    "        self.tag = ''\n",
    "        self.save = 0\n",
    "        self.verbose = 1\n",
    "        self.init_id = 1\n",
    "        self.n_mondrians = 20\n",
    "        self.budget = -1 # -1 sets lifetime to inf\n",
    "        self.discount_factor = 10 # for NSP prior\n",
    "        self.n_minibatches = 2\n",
    "        self.draw_mondrian = 0\n",
    "        self.smooth_hierarchically = 1\n",
    "        self.store_every = 0\n",
    "        self.bagging = 0\n",
    "        self.min_samples_split = 2\n",
    "        self.name_metric = 'acc'\n",
    "        \n",
    "        if self.optype == 'class':\n",
    "            self.alpha = 0    # normalized stable prior\n",
    "            assert self.smooth_hierarchically\n",
    "            \n",
    "        if self.budget < 0:\n",
    "            self.budget_to_use = np.inf\n",
    "        else:\n",
    "            self.budget_to_use = settings.budget\n",
    "        \n",
    "settings = ParamSettings()"
   ]
  },
  {
   "cell_type": "code",
   "execution_count": 5,
   "metadata": {
    "collapsed": false
   },
   "outputs": [
    {
     "name": "stdout",
     "output_type": "stream",
     "text": [
      "Current settings:\n",
      "{'alpha': 0,\n",
      " 'bagging': 0,\n",
      " 'budget': -1,\n",
      " 'budget_to_use': inf,\n",
      " 'data_path': './process_data/',\n",
      " 'dataset': 'usps',\n",
      " 'debug': 0,\n",
      " 'discount_factor': 10,\n",
      " 'draw_mondrian': 0,\n",
      " 'init_id': 1,\n",
      " 'min_samples_split': 2,\n",
      " 'n_minibatches': 2,\n",
      " 'n_mondrians': 20,\n",
      " 'name_metric': 'acc',\n",
      " 'normalize_features': 1,\n",
      " 'op_dir': 'results',\n",
      " 'optype': 'class',\n",
      " 'save': 0,\n",
      " 'select_features': 0,\n",
      " 'smooth_hierarchically': 1,\n",
      " 'store_every': 0,\n",
      " 'tag': '',\n",
      " 'verbose': 1}\n"
     ]
    }
   ],
   "source": [
    "%matplotlib inline\n",
    "PLOT = False\n",
    "\n",
    "print 'Current settings:'\n",
    "pp.pprint(vars(settings))\n",
    "\n",
    "# Resetting random seed\n",
    "reset_random_seed(settings)\n",
    "\n",
    "# Loading data\n",
    "data = load_data(settings)"
   ]
  },
  {
   "cell_type": "markdown",
   "metadata": {},
   "source": [
    "# Run RF and ERT models\n",
    "\n",
    "Use the scikit versions of Random Forest and Extremely Randomized Trees to get comparable numbers for time and accuracy."
   ]
  },
  {
   "cell_type": "code",
   "execution_count": 8,
   "metadata": {
    "collapsed": false
   },
   "outputs": [],
   "source": [
    "from time import time\n",
    "from sklearn.ensemble import RandomForestClassifier, ExtraTreesClassifier\n",
    "\n",
    "np.random.seed(1234)\n",
    "def run_classifier(clf, data):\n",
    "    \"\"\"\n",
    "    Run a sklearn classifier, return time and score\n",
    "    \"\"\"\n",
    "    t0 = time()\n",
    "    clf.fit(data['x_train'],data['y_train'])\n",
    "    score = clf.score(data['x_test'], data['y_test'])\n",
    "    run_time = time()-t0\n",
    "    return run_time, score\n",
    "    \n",
    "rf_time, rf_score = run_classifier(RandomForestClassifier(n_estimators=100), data)\n",
    "et_time, et_score = run_classifier(ExtraTreesClassifier(n_estimators=100), data)"
   ]
  },
  {
   "cell_type": "markdown",
   "metadata": {},
   "source": [
    "# Run the MF\n",
    "\n",
    "This code is mostly copied from modrianforest_demo.py in this repo, with some small modifications for this notebook"
   ]
  },
  {
   "cell_type": "code",
   "execution_count": 9,
   "metadata": {
    "collapsed": false
   },
   "outputs": [
    {
     "name": "stdout",
     "output_type": "stream",
     "text": [
      "\n",
      "minibatch\tmetric_train\tmetric_test\tnum_leaves\n",
      "        0\t1.000\t\t0.904\t\t1830.350\n",
      "        1\t1.000\t\t0.922\t\t3367.050\n",
      "\n",
      "Final forest stats:\n",
      "mean(num_leaves) = 3367.1, mean(num_non_leaves) = 3366.1, mean(tree_average_depth) = 19.7\n",
      "n_train = 7291, log_2(n_train) = 12.8, mean(tree_average_depth) = 19.7 +- 1.3\n"
     ]
    }
   ],
   "source": [
    "# data loading and cache\n",
    "data = load_data(settings)\n",
    "param, cache = precompute_minimal(data, settings)\n",
    "\n",
    "mf = MondrianForest(settings, data)\n",
    "\n",
    "# begin training and prediction, timing the overall process\n",
    "print '\\nminibatch\\tmetric_train\\tmetric_test\\tnum_leaves'\n",
    "t0=time()\n",
    "\n",
    "# loop over minibatches\n",
    "for idx_minibatch in range(settings.n_minibatches):\n",
    "    train_ids_current_minibatch = data['train_ids_partition']['current'][idx_minibatch]\n",
    "    if idx_minibatch == 0:\n",
    "        # Batch training for first minibatch\n",
    "        mf.fit(data, train_ids_current_minibatch, settings, param, cache)\n",
    "    else:\n",
    "        # Online update\n",
    "        mf.partial_fit(data, train_ids_current_minibatch, settings, param, cache)\n",
    "\n",
    "    # Evaluate\n",
    "    weights_prediction = np.ones(settings.n_mondrians) * 1.0 / settings.n_mondrians\n",
    "    train_ids_cumulative = data['train_ids_partition']['cumulative'][idx_minibatch]\n",
    "    \n",
    "    # training predictions\n",
    "    pred_forest_train, metrics_train = \\\n",
    "        mf.evaluate_predictions(data, data['x_train'][train_ids_cumulative, :], \\\n",
    "        data['y_train'][train_ids_cumulative], \\\n",
    "        settings, param, weights_prediction, False)\n",
    "\n",
    "    # test predictions\n",
    "    pred_forest_test, metrics_test = \\\n",
    "        mf.evaluate_predictions(data, data['x_test'], data['y_test'], \\\n",
    "        settings, param, weights_prediction, False)\n",
    "    name_metric = settings.name_metric     # acc or mse\n",
    "    metric_train = metrics_train[name_metric]\n",
    "    metric_test = metrics_test[name_metric]\n",
    "    tree_numleaves = np.zeros(settings.n_mondrians)\n",
    "    for i_t, tree in enumerate(mf.forest):\n",
    "        tree_numleaves[i_t] = len(tree.leaf_nodes)\n",
    "    forest_numleaves = np.mean(tree_numleaves)\n",
    "    print '%9d\\t%.3f\\t\\t%.3f\\t\\t%.3f' % (idx_minibatch, metric_train, metric_test, forest_numleaves)\n",
    "mf_time = time() - t0\n",
    "\n",
    "print '\\nFinal forest stats:'\n",
    "tree_stats = np.zeros((settings.n_mondrians, 2))\n",
    "tree_average_depth = np.zeros(settings.n_mondrians)\n",
    "for i_t, tree in enumerate(mf.forest):\n",
    "    tree_stats[i_t, -2:] = np.array([len(tree.leaf_nodes), len(tree.non_leaf_nodes)])\n",
    "    tree_average_depth[i_t] = tree.get_average_depth(settings, data)[0]\n",
    "print 'mean(num_leaves) = %.1f, mean(num_non_leaves) = %.1f, mean(tree_average_depth) = %.1f' \\\n",
    "        % (np.mean(tree_stats[:, -2]), np.mean(tree_stats[:, -1]), np.mean(tree_average_depth))\n",
    "print 'n_train = %d, log_2(n_train) = %.1f, mean(tree_average_depth) = %.1f +- %.1f' \\\n",
    "        % (data['n_train'], np.log2(data['n_train']), np.mean(tree_average_depth), np.std(tree_average_depth))"
   ]
  },
  {
   "cell_type": "markdown",
   "metadata": {
    "collapsed": true
   },
   "source": [
    "# Summary\n",
    "\n",
    "The accuracy on the UCI usps dataset is similar across the classifiers, and close to the published values.  However, the MF code takes significantly longer to run."
   ]
  },
  {
   "cell_type": "code",
   "execution_count": 10,
   "metadata": {
    "collapsed": false
   },
   "outputs": [
    {
     "name": "stdout",
     "output_type": "stream",
     "text": [
      "RF time, accuracy = 9.31, 0.94\n",
      "ET time, accuracy = 2.77, 0.95\n",
      "MF time, accuracy = 76.30, 0.92\n"
     ]
    }
   ],
   "source": [
    "print 'RF time, accuracy = %0.2f, %0.2f' % (rf_time, rf_score)\n",
    "print 'ET time, accuracy = %0.2f, %0.2f' % (et_time, et_score)\n",
    "print 'MF time, accuracy = %0.2f, %0.2f' % (mf_time, metric_test)"
   ]
  },
  {
   "cell_type": "code",
   "execution_count": null,
   "metadata": {
    "collapsed": true
   },
   "outputs": [],
   "source": []
  }
 ],
 "metadata": {
  "kernelspec": {
   "display_name": "Python 2",
   "language": "python",
   "name": "python2"
  },
  "language_info": {
   "codemirror_mode": {
    "name": "ipython",
    "version": 2
   },
   "file_extension": ".py",
   "mimetype": "text/x-python",
   "name": "python",
   "nbconvert_exporter": "python",
   "pygments_lexer": "ipython2",
   "version": "2.7.12"
  }
 },
 "nbformat": 4,
 "nbformat_minor": 0
}
